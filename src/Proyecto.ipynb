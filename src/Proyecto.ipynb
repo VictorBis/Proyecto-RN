{
  "nbformat": 4,
  "nbformat_minor": 0,
  "metadata": {
    "colab": {
      "name": "Proyecto.ipynb",
      "provenance": [],
      "collapsed_sections": []
    },
    "kernelspec": {
      "name": "python3",
      "display_name": "Python 3"
    }
  },
  "cells": [
    {
      "cell_type": "markdown",
      "metadata": {
        "id": "gYwrGQXEezT0",
        "colab_type": "text"
      },
      "source": [
        ""
      ]
    },
    {
      "cell_type": "code",
      "metadata": {
        "id": "HVRKO5f9bwsy",
        "colab_type": "code",
        "outputId": "35c029c2-28e7-4623-a4ed-284783f18c90",
        "colab": {
          "base_uri": "https://localhost:8080/",
          "height": 34
        }
      },
      "source": [
        "!ls #comando ls\n",
        "import pandas as pd\n",
        "import numpy as np"
      ],
      "execution_count": 0,
      "outputs": [
        {
          "output_type": "stream",
          "text": [
            "instrumentos.csv  sample_data\n"
          ],
          "name": "stdout"
        }
      ]
    },
    {
      "cell_type": "markdown",
      "metadata": {
        "id": "3XzKUvSke3xq",
        "colab_type": "text"
      },
      "source": [
        "Importamos los datos y vemos si se importó bien el archivo"
      ]
    },
    {
      "cell_type": "code",
      "metadata": {
        "id": "6OODgnxve6gI",
        "colab_type": "code",
        "outputId": "a77ed998-fdf1-4ba5-d40c-7e6a5a630376",
        "colab": {
          "base_uri": "https://localhost:8080/",
          "height": 289
        }
      },
      "source": [
        "datos=pd.read_csv('instrumentos.csv')\n",
        "datos.head()"
      ],
      "execution_count": 0,
      "outputs": [
        {
          "output_type": "execute_result",
          "data": {
            "text/html": [
              "<div>\n",
              "<style scoped>\n",
              "    .dataframe tbody tr th:only-of-type {\n",
              "        vertical-align: middle;\n",
              "    }\n",
              "\n",
              "    .dataframe tbody tr th {\n",
              "        vertical-align: top;\n",
              "    }\n",
              "\n",
              "    .dataframe thead th {\n",
              "        text-align: right;\n",
              "    }\n",
              "</style>\n",
              "<table border=\"1\" class=\"dataframe\">\n",
              "  <thead>\n",
              "    <tr style=\"text-align: right;\">\n",
              "      <th></th>\n",
              "      <th>reviewerID</th>\n",
              "      <th>asin</th>\n",
              "      <th>reviewerName</th>\n",
              "      <th>helpful</th>\n",
              "      <th>reviewText</th>\n",
              "      <th>overall</th>\n",
              "      <th>summary</th>\n",
              "      <th>unixReviewTime</th>\n",
              "      <th>reviewTime</th>\n",
              "    </tr>\n",
              "  </thead>\n",
              "  <tbody>\n",
              "    <tr>\n",
              "      <th>0</th>\n",
              "      <td>A2IBPI20UZIR0U</td>\n",
              "      <td>1384719342</td>\n",
              "      <td>cassandra tu \"Yeah, well, that's just like, u...</td>\n",
              "      <td>[0, 0]</td>\n",
              "      <td>Not much to write about here, but it does exac...</td>\n",
              "      <td>5.0</td>\n",
              "      <td>good</td>\n",
              "      <td>1393545600</td>\n",
              "      <td>02 28, 2014</td>\n",
              "    </tr>\n",
              "    <tr>\n",
              "      <th>1</th>\n",
              "      <td>A14VAT5EAX3D9S</td>\n",
              "      <td>1384719342</td>\n",
              "      <td>Jake</td>\n",
              "      <td>[13, 14]</td>\n",
              "      <td>The product does exactly as it should and is q...</td>\n",
              "      <td>5.0</td>\n",
              "      <td>Jake</td>\n",
              "      <td>1363392000</td>\n",
              "      <td>03 16, 2013</td>\n",
              "    </tr>\n",
              "    <tr>\n",
              "      <th>2</th>\n",
              "      <td>A195EZSQDW3E21</td>\n",
              "      <td>1384719342</td>\n",
              "      <td>Rick Bennette \"Rick Bennette\"</td>\n",
              "      <td>[1, 1]</td>\n",
              "      <td>The primary job of this device is to block the...</td>\n",
              "      <td>5.0</td>\n",
              "      <td>It Does The Job Well</td>\n",
              "      <td>1377648000</td>\n",
              "      <td>08 28, 2013</td>\n",
              "    </tr>\n",
              "    <tr>\n",
              "      <th>3</th>\n",
              "      <td>A2C00NNG1ZQQG2</td>\n",
              "      <td>1384719342</td>\n",
              "      <td>RustyBill \"Sunday Rocker\"</td>\n",
              "      <td>[0, 0]</td>\n",
              "      <td>Nice windscreen protects my MXL mic and preven...</td>\n",
              "      <td>5.0</td>\n",
              "      <td>GOOD WINDSCREEN FOR THE MONEY</td>\n",
              "      <td>1392336000</td>\n",
              "      <td>02 14, 2014</td>\n",
              "    </tr>\n",
              "    <tr>\n",
              "      <th>4</th>\n",
              "      <td>A94QU4C90B1AX</td>\n",
              "      <td>1384719342</td>\n",
              "      <td>SEAN MASLANKA</td>\n",
              "      <td>[0, 0]</td>\n",
              "      <td>This pop filter is great. It looks and perform...</td>\n",
              "      <td>5.0</td>\n",
              "      <td>No more pops when I record my vocals.</td>\n",
              "      <td>1392940800</td>\n",
              "      <td>02 21, 2014</td>\n",
              "    </tr>\n",
              "  </tbody>\n",
              "</table>\n",
              "</div>"
            ],
            "text/plain": [
              "       reviewerID        asin  ... unixReviewTime   reviewTime\n",
              "0  A2IBPI20UZIR0U  1384719342  ...     1393545600  02 28, 2014\n",
              "1  A14VAT5EAX3D9S  1384719342  ...     1363392000  03 16, 2013\n",
              "2  A195EZSQDW3E21  1384719342  ...     1377648000  08 28, 2013\n",
              "3  A2C00NNG1ZQQG2  1384719342  ...     1392336000  02 14, 2014\n",
              "4   A94QU4C90B1AX  1384719342  ...     1392940800  02 21, 2014\n",
              "\n",
              "[5 rows x 9 columns]"
            ]
          },
          "metadata": {
            "tags": []
          },
          "execution_count": 31
        }
      ]
    },
    {
      "cell_type": "markdown",
      "metadata": {
        "id": "zacVUjci3JTY",
        "colab_type": "text"
      },
      "source": [
        "Eliminamos las columnas que no brindan información relevante acerca de los productos"
      ]
    },
    {
      "cell_type": "code",
      "metadata": {
        "id": "nF_-pUI8pX4-",
        "colab_type": "code",
        "outputId": "ddd24057-d40c-45e3-a2e6-5776fc688173",
        "colab": {
          "base_uri": "https://localhost:8080/",
          "height": 204
        }
      },
      "source": [
        "del datos['reviewerID']\n",
        "del datos['asin']\n",
        "del datos['reviewerName']\n",
        "del datos['helpful']\n",
        "del datos['unixReviewTime']\n",
        "del datos['reviewTime']\n",
        "datos.head()"
      ],
      "execution_count": 0,
      "outputs": [
        {
          "output_type": "execute_result",
          "data": {
            "text/html": [
              "<div>\n",
              "<style scoped>\n",
              "    .dataframe tbody tr th:only-of-type {\n",
              "        vertical-align: middle;\n",
              "    }\n",
              "\n",
              "    .dataframe tbody tr th {\n",
              "        vertical-align: top;\n",
              "    }\n",
              "\n",
              "    .dataframe thead th {\n",
              "        text-align: right;\n",
              "    }\n",
              "</style>\n",
              "<table border=\"1\" class=\"dataframe\">\n",
              "  <thead>\n",
              "    <tr style=\"text-align: right;\">\n",
              "      <th></th>\n",
              "      <th>reviewText</th>\n",
              "      <th>overall</th>\n",
              "      <th>summary</th>\n",
              "    </tr>\n",
              "  </thead>\n",
              "  <tbody>\n",
              "    <tr>\n",
              "      <th>0</th>\n",
              "      <td>Not much to write about here, but it does exac...</td>\n",
              "      <td>5.0</td>\n",
              "      <td>good</td>\n",
              "    </tr>\n",
              "    <tr>\n",
              "      <th>1</th>\n",
              "      <td>The product does exactly as it should and is q...</td>\n",
              "      <td>5.0</td>\n",
              "      <td>Jake</td>\n",
              "    </tr>\n",
              "    <tr>\n",
              "      <th>2</th>\n",
              "      <td>The primary job of this device is to block the...</td>\n",
              "      <td>5.0</td>\n",
              "      <td>It Does The Job Well</td>\n",
              "    </tr>\n",
              "    <tr>\n",
              "      <th>3</th>\n",
              "      <td>Nice windscreen protects my MXL mic and preven...</td>\n",
              "      <td>5.0</td>\n",
              "      <td>GOOD WINDSCREEN FOR THE MONEY</td>\n",
              "    </tr>\n",
              "    <tr>\n",
              "      <th>4</th>\n",
              "      <td>This pop filter is great. It looks and perform...</td>\n",
              "      <td>5.0</td>\n",
              "      <td>No more pops when I record my vocals.</td>\n",
              "    </tr>\n",
              "  </tbody>\n",
              "</table>\n",
              "</div>"
            ],
            "text/plain": [
              "                                          reviewText  ...                                summary\n",
              "0  Not much to write about here, but it does exac...  ...                                   good\n",
              "1  The product does exactly as it should and is q...  ...                                   Jake\n",
              "2  The primary job of this device is to block the...  ...                   It Does The Job Well\n",
              "3  Nice windscreen protects my MXL mic and preven...  ...          GOOD WINDSCREEN FOR THE MONEY\n",
              "4  This pop filter is great. It looks and perform...  ...  No more pops when I record my vocals.\n",
              "\n",
              "[5 rows x 3 columns]"
            ]
          },
          "metadata": {
            "tags": []
          },
          "execution_count": 32
        }
      ]
    },
    {
      "cell_type": "markdown",
      "metadata": {
        "id": "8oP0c_HtSzfU",
        "colab_type": "text"
      },
      "source": [
        "Cambiamos los valores por 0 y 1, 0 si es de valor 5 y 1 para ver si es retroalimentación"
      ]
    },
    {
      "cell_type": "code",
      "metadata": {
        "id": "PjoxEIcmwN81",
        "colab_type": "code",
        "colab": {}
      },
      "source": [
        "def feedback(rating):\n",
        "    if(int(rating) < 4):\n",
        "        return 1\n",
        "    else: \n",
        "        return 0\n",
        "datos.overall = datos.overall.apply(feedback) "
      ],
      "execution_count": 0,
      "outputs": []
    },
    {
      "cell_type": "code",
      "metadata": {
        "id": "jQiyFf7h72eV",
        "colab_type": "code",
        "outputId": "d07b2775-9a8c-4a98-d684-240dfda6c12a",
        "colab": {
          "base_uri": "https://localhost:8080/",
          "height": 419
        }
      },
      "source": [
        "datos[datos['overall'] == 0]"
      ],
      "execution_count": 0,
      "outputs": [
        {
          "output_type": "execute_result",
          "data": {
            "text/html": [
              "<div>\n",
              "<style scoped>\n",
              "    .dataframe tbody tr th:only-of-type {\n",
              "        vertical-align: middle;\n",
              "    }\n",
              "\n",
              "    .dataframe tbody tr th {\n",
              "        vertical-align: top;\n",
              "    }\n",
              "\n",
              "    .dataframe thead th {\n",
              "        text-align: right;\n",
              "    }\n",
              "</style>\n",
              "<table border=\"1\" class=\"dataframe\">\n",
              "  <thead>\n",
              "    <tr style=\"text-align: right;\">\n",
              "      <th></th>\n",
              "      <th>reviewText</th>\n",
              "      <th>overall</th>\n",
              "      <th>summary</th>\n",
              "    </tr>\n",
              "  </thead>\n",
              "  <tbody>\n",
              "    <tr>\n",
              "      <th>0</th>\n",
              "      <td>Not much to write about here, but it does exac...</td>\n",
              "      <td>0</td>\n",
              "      <td>good</td>\n",
              "    </tr>\n",
              "    <tr>\n",
              "      <th>1</th>\n",
              "      <td>The product does exactly as it should and is q...</td>\n",
              "      <td>0</td>\n",
              "      <td>Jake</td>\n",
              "    </tr>\n",
              "    <tr>\n",
              "      <th>2</th>\n",
              "      <td>The primary job of this device is to block the...</td>\n",
              "      <td>0</td>\n",
              "      <td>It Does The Job Well</td>\n",
              "    </tr>\n",
              "    <tr>\n",
              "      <th>3</th>\n",
              "      <td>Nice windscreen protects my MXL mic and preven...</td>\n",
              "      <td>0</td>\n",
              "      <td>GOOD WINDSCREEN FOR THE MONEY</td>\n",
              "    </tr>\n",
              "    <tr>\n",
              "      <th>4</th>\n",
              "      <td>This pop filter is great. It looks and perform...</td>\n",
              "      <td>0</td>\n",
              "      <td>No more pops when I record my vocals.</td>\n",
              "    </tr>\n",
              "    <tr>\n",
              "      <th>...</th>\n",
              "      <td>...</td>\n",
              "      <td>...</td>\n",
              "      <td>...</td>\n",
              "    </tr>\n",
              "    <tr>\n",
              "      <th>10256</th>\n",
              "      <td>Great, just as expected.  Thank to all.</td>\n",
              "      <td>0</td>\n",
              "      <td>Five Stars</td>\n",
              "    </tr>\n",
              "    <tr>\n",
              "      <th>10257</th>\n",
              "      <td>I've been thinking about trying the Nanoweb st...</td>\n",
              "      <td>0</td>\n",
              "      <td>Long life, and for some players, a good econom...</td>\n",
              "    </tr>\n",
              "    <tr>\n",
              "      <th>10258</th>\n",
              "      <td>I have tried coated strings in the past ( incl...</td>\n",
              "      <td>0</td>\n",
              "      <td>Good for coated.</td>\n",
              "    </tr>\n",
              "    <tr>\n",
              "      <th>10259</th>\n",
              "      <td>Well, MADE by Elixir and DEVELOPED with Taylor...</td>\n",
              "      <td>0</td>\n",
              "      <td>Taylor Made</td>\n",
              "    </tr>\n",
              "    <tr>\n",
              "      <th>10260</th>\n",
              "      <td>These strings are really quite good, but I wou...</td>\n",
              "      <td>0</td>\n",
              "      <td>These strings are really quite good, but I wou...</td>\n",
              "    </tr>\n",
              "  </tbody>\n",
              "</table>\n",
              "<p>9022 rows × 3 columns</p>\n",
              "</div>"
            ],
            "text/plain": [
              "                                              reviewText  ...                                            summary\n",
              "0      Not much to write about here, but it does exac...  ...                                               good\n",
              "1      The product does exactly as it should and is q...  ...                                               Jake\n",
              "2      The primary job of this device is to block the...  ...                               It Does The Job Well\n",
              "3      Nice windscreen protects my MXL mic and preven...  ...                      GOOD WINDSCREEN FOR THE MONEY\n",
              "4      This pop filter is great. It looks and perform...  ...              No more pops when I record my vocals.\n",
              "...                                                  ...  ...                                                ...\n",
              "10256            Great, just as expected.  Thank to all.  ...                                         Five Stars\n",
              "10257  I've been thinking about trying the Nanoweb st...  ...  Long life, and for some players, a good econom...\n",
              "10258  I have tried coated strings in the past ( incl...  ...                                   Good for coated.\n",
              "10259  Well, MADE by Elixir and DEVELOPED with Taylor...  ...                                        Taylor Made\n",
              "10260  These strings are really quite good, but I wou...  ...  These strings are really quite good, but I wou...\n",
              "\n",
              "[9022 rows x 3 columns]"
            ]
          },
          "metadata": {
            "tags": []
          },
          "execution_count": 34
        }
      ]
    },
    {
      "cell_type": "markdown",
      "metadata": {
        "id": "LVPrJJUnWP00",
        "colab_type": "text"
      },
      "source": [
        "Juntamos el texto del review con el de summary para tener solo una columna"
      ]
    },
    {
      "cell_type": "code",
      "metadata": {
        "id": "stTGlZQQMPYo",
        "colab_type": "code",
        "colab": {}
      },
      "source": [
        "datos['resume'] = datos['reviewText']+ '' + datos['summary']\n",
        "del datos['reviewText']\n",
        "del datos['summary']"
      ],
      "execution_count": 0,
      "outputs": []
    },
    {
      "cell_type": "code",
      "metadata": {
        "id": "eGglMXBNRZFo",
        "colab_type": "code",
        "outputId": "eb289152-5e3b-4273-a337-3bceecbb9821",
        "colab": {
          "base_uri": "https://localhost:8080/",
          "height": 204
        }
      },
      "source": [
        "datos.head()"
      ],
      "execution_count": 0,
      "outputs": [
        {
          "output_type": "execute_result",
          "data": {
            "text/html": [
              "<div>\n",
              "<style scoped>\n",
              "    .dataframe tbody tr th:only-of-type {\n",
              "        vertical-align: middle;\n",
              "    }\n",
              "\n",
              "    .dataframe tbody tr th {\n",
              "        vertical-align: top;\n",
              "    }\n",
              "\n",
              "    .dataframe thead th {\n",
              "        text-align: right;\n",
              "    }\n",
              "</style>\n",
              "<table border=\"1\" class=\"dataframe\">\n",
              "  <thead>\n",
              "    <tr style=\"text-align: right;\">\n",
              "      <th></th>\n",
              "      <th>overall</th>\n",
              "      <th>resume</th>\n",
              "    </tr>\n",
              "  </thead>\n",
              "  <tbody>\n",
              "    <tr>\n",
              "      <th>0</th>\n",
              "      <td>0</td>\n",
              "      <td>Not much to write about here, but it does exac...</td>\n",
              "    </tr>\n",
              "    <tr>\n",
              "      <th>1</th>\n",
              "      <td>0</td>\n",
              "      <td>The product does exactly as it should and is q...</td>\n",
              "    </tr>\n",
              "    <tr>\n",
              "      <th>2</th>\n",
              "      <td>0</td>\n",
              "      <td>The primary job of this device is to block the...</td>\n",
              "    </tr>\n",
              "    <tr>\n",
              "      <th>3</th>\n",
              "      <td>0</td>\n",
              "      <td>Nice windscreen protects my MXL mic and preven...</td>\n",
              "    </tr>\n",
              "    <tr>\n",
              "      <th>4</th>\n",
              "      <td>0</td>\n",
              "      <td>This pop filter is great. It looks and perform...</td>\n",
              "    </tr>\n",
              "  </tbody>\n",
              "</table>\n",
              "</div>"
            ],
            "text/plain": [
              "   overall                                             resume\n",
              "0        0  Not much to write about here, but it does exac...\n",
              "1        0  The product does exactly as it should and is q...\n",
              "2        0  The primary job of this device is to block the...\n",
              "3        0  Nice windscreen protects my MXL mic and preven...\n",
              "4        0  This pop filter is great. It looks and perform..."
            ]
          },
          "metadata": {
            "tags": []
          },
          "execution_count": 36
        }
      ]
    },
    {
      "cell_type": "code",
      "metadata": {
        "id": "LB4RPuqX3SK4",
        "colab_type": "code",
        "outputId": "e64b4676-1cac-46e0-c777-9c7e61fe38e6",
        "colab": {
          "base_uri": "https://localhost:8080/",
          "height": 68
        }
      },
      "source": [
        "datos.overall.value_counts()"
      ],
      "execution_count": 0,
      "outputs": [
        {
          "output_type": "execute_result",
          "data": {
            "text/plain": [
              "0    9022\n",
              "1    1239\n",
              "Name: overall, dtype: int64"
            ]
          },
          "metadata": {
            "tags": []
          },
          "execution_count": 37
        }
      ]
    },
    {
      "cell_type": "markdown",
      "metadata": {
        "id": "t4EqtUc63zAN",
        "colab_type": "text"
      },
      "source": [
        "Reviews con feedback"
      ]
    },
    {
      "cell_type": "code",
      "metadata": {
        "id": "oopvtl8e3xiz",
        "colab_type": "code",
        "outputId": "02cb354b-bf61-4df8-fb83-fb4359432a16",
        "colab": {
          "base_uri": "https://localhost:8080/",
          "height": 359
        }
      },
      "source": [
        "datos[datos.overall == 1].head(10)"
      ],
      "execution_count": 0,
      "outputs": [
        {
          "output_type": "execute_result",
          "data": {
            "text/html": [
              "<div>\n",
              "<style scoped>\n",
              "    .dataframe tbody tr th:only-of-type {\n",
              "        vertical-align: middle;\n",
              "    }\n",
              "\n",
              "    .dataframe tbody tr th {\n",
              "        vertical-align: top;\n",
              "    }\n",
              "\n",
              "    .dataframe thead th {\n",
              "        text-align: right;\n",
              "    }\n",
              "</style>\n",
              "<table border=\"1\" class=\"dataframe\">\n",
              "  <thead>\n",
              "    <tr style=\"text-align: right;\">\n",
              "      <th></th>\n",
              "      <th>overall</th>\n",
              "      <th>resume</th>\n",
              "    </tr>\n",
              "  </thead>\n",
              "  <tbody>\n",
              "    <tr>\n",
              "      <th>7</th>\n",
              "      <td>1</td>\n",
              "      <td>I now use this cable to run from the output of...</td>\n",
              "    </tr>\n",
              "    <tr>\n",
              "      <th>12</th>\n",
              "      <td>1</td>\n",
              "      <td>If you are not use to using a large sustaining...</td>\n",
              "    </tr>\n",
              "    <tr>\n",
              "      <th>15</th>\n",
              "      <td>1</td>\n",
              "      <td>I bought this to use with my keyboard. I wasn'...</td>\n",
              "    </tr>\n",
              "    <tr>\n",
              "      <th>50</th>\n",
              "      <td>1</td>\n",
              "      <td>I didn't expect this cable to be so thin. It's...</td>\n",
              "    </tr>\n",
              "    <tr>\n",
              "      <th>52</th>\n",
              "      <td>1</td>\n",
              "      <td>It hums, crackles, and I think I'm having prob...</td>\n",
              "    </tr>\n",
              "    <tr>\n",
              "      <th>59</th>\n",
              "      <td>1</td>\n",
              "      <td>Works for practice ... it's a guitar instrumen...</td>\n",
              "    </tr>\n",
              "    <tr>\n",
              "      <th>71</th>\n",
              "      <td>1</td>\n",
              "      <td>...unbalanced guitar cable is notoriously nois...</td>\n",
              "    </tr>\n",
              "    <tr>\n",
              "      <th>74</th>\n",
              "      <td>1</td>\n",
              "      <td>It's a cable, no frills, tangles pretty easy a...</td>\n",
              "    </tr>\n",
              "    <tr>\n",
              "      <th>76</th>\n",
              "      <td>1</td>\n",
              "      <td>One end was loose, so I tightened it, it keeps...</td>\n",
              "    </tr>\n",
              "    <tr>\n",
              "      <th>89</th>\n",
              "      <td>1</td>\n",
              "      <td>I'm a pro-cheapo and I hated this thing. They'...</td>\n",
              "    </tr>\n",
              "  </tbody>\n",
              "</table>\n",
              "</div>"
            ],
            "text/plain": [
              "    overall                                             resume\n",
              "7         1  I now use this cable to run from the output of...\n",
              "12        1  If you are not use to using a large sustaining...\n",
              "15        1  I bought this to use with my keyboard. I wasn'...\n",
              "50        1  I didn't expect this cable to be so thin. It's...\n",
              "52        1  It hums, crackles, and I think I'm having prob...\n",
              "59        1  Works for practice ... it's a guitar instrumen...\n",
              "71        1  ...unbalanced guitar cable is notoriously nois...\n",
              "74        1  It's a cable, no frills, tangles pretty easy a...\n",
              "76        1  One end was loose, so I tightened it, it keeps...\n",
              "89        1  I'm a pro-cheapo and I hated this thing. They'..."
            ]
          },
          "metadata": {
            "tags": []
          },
          "execution_count": 38
        }
      ]
    },
    {
      "cell_type": "markdown",
      "metadata": {
        "id": "cuXQSGEI4cmV",
        "colab_type": "text"
      },
      "source": [
        "Reviews sin feedback"
      ]
    },
    {
      "cell_type": "code",
      "metadata": {
        "id": "8I71hdh34bwp",
        "colab_type": "code",
        "outputId": "ecc15f1e-93d7-421e-ddca-c818431bd33c",
        "colab": {
          "base_uri": "https://localhost:8080/",
          "height": 359
        }
      },
      "source": [
        "datos[datos.overall == 0].head(10)"
      ],
      "execution_count": 0,
      "outputs": [
        {
          "output_type": "execute_result",
          "data": {
            "text/html": [
              "<div>\n",
              "<style scoped>\n",
              "    .dataframe tbody tr th:only-of-type {\n",
              "        vertical-align: middle;\n",
              "    }\n",
              "\n",
              "    .dataframe tbody tr th {\n",
              "        vertical-align: top;\n",
              "    }\n",
              "\n",
              "    .dataframe thead th {\n",
              "        text-align: right;\n",
              "    }\n",
              "</style>\n",
              "<table border=\"1\" class=\"dataframe\">\n",
              "  <thead>\n",
              "    <tr style=\"text-align: right;\">\n",
              "      <th></th>\n",
              "      <th>overall</th>\n",
              "      <th>resume</th>\n",
              "    </tr>\n",
              "  </thead>\n",
              "  <tbody>\n",
              "    <tr>\n",
              "      <th>0</th>\n",
              "      <td>0</td>\n",
              "      <td>Not much to write about here, but it does exac...</td>\n",
              "    </tr>\n",
              "    <tr>\n",
              "      <th>1</th>\n",
              "      <td>0</td>\n",
              "      <td>The product does exactly as it should and is q...</td>\n",
              "    </tr>\n",
              "    <tr>\n",
              "      <th>2</th>\n",
              "      <td>0</td>\n",
              "      <td>The primary job of this device is to block the...</td>\n",
              "    </tr>\n",
              "    <tr>\n",
              "      <th>3</th>\n",
              "      <td>0</td>\n",
              "      <td>Nice windscreen protects my MXL mic and preven...</td>\n",
              "    </tr>\n",
              "    <tr>\n",
              "      <th>4</th>\n",
              "      <td>0</td>\n",
              "      <td>This pop filter is great. It looks and perform...</td>\n",
              "    </tr>\n",
              "    <tr>\n",
              "      <th>5</th>\n",
              "      <td>0</td>\n",
              "      <td>So good that I bought another one.  Love the h...</td>\n",
              "    </tr>\n",
              "    <tr>\n",
              "      <th>6</th>\n",
              "      <td>0</td>\n",
              "      <td>I have used monster cables for years, and with...</td>\n",
              "    </tr>\n",
              "    <tr>\n",
              "      <th>8</th>\n",
              "      <td>0</td>\n",
              "      <td>Perfect for my Epiphone Sheraton II.  Monster ...</td>\n",
              "    </tr>\n",
              "    <tr>\n",
              "      <th>9</th>\n",
              "      <td>0</td>\n",
              "      <td>Monster makes the best cables and a lifetime w...</td>\n",
              "    </tr>\n",
              "    <tr>\n",
              "      <th>10</th>\n",
              "      <td>0</td>\n",
              "      <td>Monster makes a wide array of cables, includin...</td>\n",
              "    </tr>\n",
              "  </tbody>\n",
              "</table>\n",
              "</div>"
            ],
            "text/plain": [
              "    overall                                             resume\n",
              "0         0  Not much to write about here, but it does exac...\n",
              "1         0  The product does exactly as it should and is q...\n",
              "2         0  The primary job of this device is to block the...\n",
              "3         0  Nice windscreen protects my MXL mic and preven...\n",
              "4         0  This pop filter is great. It looks and perform...\n",
              "5         0  So good that I bought another one.  Love the h...\n",
              "6         0  I have used monster cables for years, and with...\n",
              "8         0  Perfect for my Epiphone Sheraton II.  Monster ...\n",
              "9         0  Monster makes the best cables and a lifetime w...\n",
              "10        0  Monster makes a wide array of cables, includin..."
            ]
          },
          "metadata": {
            "tags": []
          },
          "execution_count": 39
        }
      ]
    },
    {
      "cell_type": "code",
      "metadata": {
        "id": "eQPCYXekFCr_",
        "colab_type": "code",
        "outputId": "59a3a740-08b9-44c3-f826-902b8da04a92",
        "colab": {
          "base_uri": "https://localhost:8080/",
          "height": 85
        }
      },
      "source": [
        "import nltk\n",
        "nltk.download('stopwords')\n",
        "nltk.download('punkt')\n",
        "from sklearn.feature_extraction.text import CountVectorizer, TfidfTransformer\n",
        "from sklearn.model_selection import train_test_split\n",
        "import re\n",
        "import string\n",
        "from nltk.corpus import stopwords\n",
        "from nltk.tokenize import word_tokenize"
      ],
      "execution_count": 0,
      "outputs": [
        {
          "output_type": "stream",
          "text": [
            "[nltk_data] Downloading package stopwords to /root/nltk_data...\n",
            "[nltk_data]   Package stopwords is already up-to-date!\n",
            "[nltk_data] Downloading package punkt to /root/nltk_data...\n",
            "[nltk_data]   Package punkt is already up-to-date!\n"
          ],
          "name": "stdout"
        }
      ]
    },
    {
      "cell_type": "markdown",
      "metadata": {
        "id": "xXogKAkIJVRd",
        "colab_type": "text"
      },
      "source": [
        "Limpiar el texto ayuda a reducir el ruido que se presenta en los comentarios.\n",
        "Si se eliminan las **stop words** los reviews quedan sin palabras como **pero**, la cual es una palabra clave en la retroalimentación."
      ]
    },
    {
      "cell_type": "code",
      "metadata": {
        "id": "i6Tigkaw4zBZ",
        "colab_type": "code",
        "colab": {}
      },
      "source": [
        "def clean_text(sentence):\n",
        "    sentence = str(sentence).lower() \n",
        "    sentence = re.sub(r'\\d+', '', sentence) #eliminamos números\n",
        "    sentence = sentence.translate(str.maketrans('', '', string.punctuation)) #eliminamos signos de puntuación\n",
        "    sentence = sentence.strip()\n",
        "    \"\"\"stop_words = set(stopwords.words('english')) \n",
        "    tokens = word_tokenize(sentence)\n",
        "    result = [i for i in tokens if not i in stop_words] #eliminamos stopwords\n",
        "    sentence = ' '.join(result)\"\"\"\n",
        "    return sentence"
      ],
      "execution_count": 0,
      "outputs": []
    },
    {
      "cell_type": "markdown",
      "metadata": {
        "id": "Wd2CU35l5By0",
        "colab_type": "text"
      },
      "source": [
        "Reviews sin ruido en ellas"
      ]
    },
    {
      "cell_type": "code",
      "metadata": {
        "id": "O0O7Knwr5APR",
        "colab_type": "code",
        "outputId": "7661c95d-3903-41f8-dd3f-3b09287ec3ed",
        "colab": {
          "base_uri": "https://localhost:8080/",
          "height": 359
        }
      },
      "source": [
        "datos[\"resume\"] = datos[\"resume\"].apply(clean_text)\n",
        "datos.head(10)"
      ],
      "execution_count": 0,
      "outputs": [
        {
          "output_type": "execute_result",
          "data": {
            "text/html": [
              "<div>\n",
              "<style scoped>\n",
              "    .dataframe tbody tr th:only-of-type {\n",
              "        vertical-align: middle;\n",
              "    }\n",
              "\n",
              "    .dataframe tbody tr th {\n",
              "        vertical-align: top;\n",
              "    }\n",
              "\n",
              "    .dataframe thead th {\n",
              "        text-align: right;\n",
              "    }\n",
              "</style>\n",
              "<table border=\"1\" class=\"dataframe\">\n",
              "  <thead>\n",
              "    <tr style=\"text-align: right;\">\n",
              "      <th></th>\n",
              "      <th>overall</th>\n",
              "      <th>resume</th>\n",
              "    </tr>\n",
              "  </thead>\n",
              "  <tbody>\n",
              "    <tr>\n",
              "      <th>0</th>\n",
              "      <td>0</td>\n",
              "      <td>not much to write about here but it does exact...</td>\n",
              "    </tr>\n",
              "    <tr>\n",
              "      <th>1</th>\n",
              "      <td>0</td>\n",
              "      <td>the product does exactly as it should and is q...</td>\n",
              "    </tr>\n",
              "    <tr>\n",
              "      <th>2</th>\n",
              "      <td>0</td>\n",
              "      <td>the primary job of this device is to block the...</td>\n",
              "    </tr>\n",
              "    <tr>\n",
              "      <th>3</th>\n",
              "      <td>0</td>\n",
              "      <td>nice windscreen protects my mxl mic and preven...</td>\n",
              "    </tr>\n",
              "    <tr>\n",
              "      <th>4</th>\n",
              "      <td>0</td>\n",
              "      <td>this pop filter is great it looks and performs...</td>\n",
              "    </tr>\n",
              "    <tr>\n",
              "      <th>5</th>\n",
              "      <td>0</td>\n",
              "      <td>so good that i bought another one  love the he...</td>\n",
              "    </tr>\n",
              "    <tr>\n",
              "      <th>6</th>\n",
              "      <td>0</td>\n",
              "      <td>i have used monster cables for years and with ...</td>\n",
              "    </tr>\n",
              "    <tr>\n",
              "      <th>7</th>\n",
              "      <td>1</td>\n",
              "      <td>i now use this cable to run from the output of...</td>\n",
              "    </tr>\n",
              "    <tr>\n",
              "      <th>8</th>\n",
              "      <td>0</td>\n",
              "      <td>perfect for my epiphone sheraton ii  monster c...</td>\n",
              "    </tr>\n",
              "    <tr>\n",
              "      <th>9</th>\n",
              "      <td>0</td>\n",
              "      <td>monster makes the best cables and a lifetime w...</td>\n",
              "    </tr>\n",
              "  </tbody>\n",
              "</table>\n",
              "</div>"
            ],
            "text/plain": [
              "   overall                                             resume\n",
              "0        0  not much to write about here but it does exact...\n",
              "1        0  the product does exactly as it should and is q...\n",
              "2        0  the primary job of this device is to block the...\n",
              "3        0  nice windscreen protects my mxl mic and preven...\n",
              "4        0  this pop filter is great it looks and performs...\n",
              "5        0  so good that i bought another one  love the he...\n",
              "6        0  i have used monster cables for years and with ...\n",
              "7        1  i now use this cable to run from the output of...\n",
              "8        0  perfect for my epiphone sheraton ii  monster c...\n",
              "9        0  monster makes the best cables and a lifetime w..."
            ]
          },
          "metadata": {
            "tags": []
          },
          "execution_count": 42
        }
      ]
    },
    {
      "cell_type": "markdown",
      "metadata": {
        "id": "Czn_bC7CSrCR",
        "colab_type": "text"
      },
      "source": [
        "Separamos nuestros conjuntos de prueba y de entrenamiento"
      ]
    },
    {
      "cell_type": "code",
      "metadata": {
        "id": "7YVd9cZ3GVQk",
        "colab_type": "code",
        "colab": {}
      },
      "source": [
        "resume=datos['resume'].values\n",
        "overall=datos['overall'].values\n",
        "\n",
        "resume_train, resume_test = train_test_split(datos, test_size=None, random_state=None)"
      ],
      "execution_count": 0,
      "outputs": []
    },
    {
      "cell_type": "code",
      "metadata": {
        "id": "wPHuPcvi7Z1i",
        "colab_type": "code",
        "colab": {}
      },
      "source": [
        "from wordcloud import WordCloud, STOPWORDS\n",
        "import matplotlib as mpl\n",
        "import matplotlib.pyplot as plt\n",
        "\n",
        "stopwords = set(STOPWORDS)\n",
        "\n",
        "\"\"\"Función para mostrar una nube de palabras\"\"\"\n",
        "def show_wordcloud(data, title = None):\n",
        "    wordcloud = WordCloud(\n",
        "        background_color='white',\n",
        "        stopwords=stopwords,\n",
        "        max_words=300,\n",
        "        max_font_size=40, \n",
        "        scale=3,\n",
        "        random_state=1\n",
        "    ).generate(str(data))\n",
        "    \n",
        "    fig = plt.figure(1, figsize=(8, 8))\n",
        "    plt.axis('off')\n",
        "    if title: \n",
        "        fig.suptitle(title, fontsize=20)\n",
        "        fig.subplots_adjust(top=2.3)\n",
        "\n",
        "    plt.imshow(wordcloud)\n",
        "    plt.show()"
      ],
      "execution_count": 0,
      "outputs": []
    },
    {
      "cell_type": "code",
      "metadata": {
        "id": "nURbxYmm8E76",
        "colab_type": "code",
        "outputId": "040cb2ec-50c6-4b7b-9670-4f7dc5c6938d",
        "colab": {
          "base_uri": "https://localhost:8080/",
          "height": 573
        }
      },
      "source": [
        "show_wordcloud(datos[datos.overall == 1][\"resume\"], title = \"Feddback\")\n",
        "show_wordcloud(datos[datos.overall == 0][\"resume\"], title = \"No feedback\")"
      ],
      "execution_count": 0,
      "outputs": [
        {
          "output_type": "display_data",
          "data": {
            "image/png": "[encoded data removed]",
            "text/plain": [
              "<Figure size 576x576 with 1 Axes>"
            ]
          },
          "metadata": {
            "tags": [],
            "needs_background": "light"
          }
        },
        {
          "output_type": "display_data",
          "data": {
            "image/png": "[encoded data removed]",
            "text/plain": [
              "<Figure size 576x576 with 1 Axes>"
            ]
          },
          "metadata": {
            "tags": [],
            "needs_background": "light"
          }
        }
      ]
    },
    {
      "cell_type": "markdown",
      "metadata": {
        "id": "z9L2lAuAprFh",
        "colab_type": "text"
      },
      "source": [
        "Los textos son una serie de palabras. Se necesita convertir los textos en vectores numéricos.\n",
        "Se segmenta el texto en palabras y se cuenta el número de veces que se repite la palabra en el texto y al final se le asigna a acada palabra un id."
      ]
    },
    {
      "cell_type": "markdown",
      "metadata": {
        "id": "NzranmFZrBgV",
        "colab_type": "text"
      },
      "source": [
        "**TF-IDF:** Se puede reducir el peso de las palabras más comúnes como (the, is, an, etc.) que ocurren en todo el documento. **TF-IDF** significa Term Frecuency times Inverse Document Frecuency."
      ]
    },
    {
      "cell_type": "markdown",
      "metadata": {
        "id": "QRPCE5R9CQES",
        "colab_type": "text"
      },
      "source": [
        "Hay varios algoritmos que pueden ser usados para la clasificació de textos."
      ]
    },
    {
      "cell_type": "code",
      "metadata": {
        "id": "jz4mntB1MITE",
        "colab_type": "code",
        "colab": {}
      },
      "source": [
        "from sklearn.pipeline import Pipeline\n",
        "from sklearn.naive_bayes import MultinomialNB\n",
        "text_clf = Pipeline([\n",
        "    ('vect', CountVectorizer()),\n",
        "    ('tfidf', TfidfTransformer()),\n",
        "    ('clf', MultinomialNB()),\n",
        "])\n",
        "text_clf = text_clf.fit(resume_train[\"resume\"], resume_train[\"overall\"])"
      ],
      "execution_count": 0,
      "outputs": []
    },
    {
      "cell_type": "markdown",
      "metadata": {
        "id": "5nul0L4XNjIg",
        "colab_type": "text"
      },
      "source": [
        "El desempeño del **Naive Bayes**"
      ]
    },
    {
      "cell_type": "code",
      "metadata": {
        "id": "QubeCTu6NnR9",
        "colab_type": "code",
        "outputId": "33251771-bdc0-4bed-9978-958cdc4dd0b3",
        "colab": {
          "base_uri": "https://localhost:8080/",
          "height": 34
        }
      },
      "source": [
        "predicted_NB = text_clf.predict(resume_test[\"resume\"])\n",
        "np.mean(predicted_NB == resume_test[\"overall\"])"
      ],
      "execution_count": 0,
      "outputs": [
        {
          "output_type": "execute_result",
          "data": {
            "text/plain": [
              "0.8834762275915822"
            ]
          },
          "metadata": {
            "tags": []
          },
          "execution_count": 47
        }
      ]
    },
    {
      "cell_type": "code",
      "metadata": {
        "id": "_uckIArWxlrj",
        "colab_type": "code",
        "colab": {}
      },
      "source": [
        "from sklearn.linear_model import LogisticRegression\n",
        "text_clf_LR = Pipeline([\n",
        "    ('vect', CountVectorizer()),\n",
        "    ('tfidf', TfidfTransformer()),\n",
        "    ('clf', LogisticRegression()),\n",
        "])\n",
        "text_clf_LR = text_clf_LR.fit(resume_train[\"resume\"], resume_train[\"overall\"])"
      ],
      "execution_count": 0,
      "outputs": []
    },
    {
      "cell_type": "markdown",
      "metadata": {
        "id": "7eo0orG2yVzX",
        "colab_type": "text"
      },
      "source": [
        "El desempeño con **Logistic Regression**"
      ]
    },
    {
      "cell_type": "code",
      "metadata": {
        "id": "JzV0qVsNybgN",
        "colab_type": "code",
        "outputId": "e4327030-fd9c-47d8-99fe-df85a2ae4e5a",
        "colab": {
          "base_uri": "https://localhost:8080/",
          "height": 34
        }
      },
      "source": [
        "predicted_LR = text_clf_LR.predict(resume_test[\"resume\"])\n",
        "np.mean(predicted_LR == resume_test[\"overall\"])"
      ],
      "execution_count": 0,
      "outputs": [
        {
          "output_type": "execute_result",
          "data": {
            "text/plain": [
              "0.8885424785658612"
            ]
          },
          "metadata": {
            "tags": []
          },
          "execution_count": 49
        }
      ]
    },
    {
      "cell_type": "code",
      "metadata": {
        "id": "pZpXV4DVy16b",
        "colab_type": "code",
        "colab": {}
      },
      "source": [
        "from sklearn.linear_model import SGDClassifier\n",
        "text_clf_SVM = Pipeline([\n",
        "    ('vect', CountVectorizer()),\n",
        "    ('tfidf', TfidfTransformer()),\n",
        "    ('clf-svm', SGDClassifier(loss='hinge', penalty='l2', alpha=1e-3, random_state=42)),\n",
        "])\n",
        "text_clf_SVM = text_clf_SVM.fit(resume_train[\"resume\"], resume_train[\"overall\"])"
      ],
      "execution_count": 0,
      "outputs": []
    },
    {
      "cell_type": "markdown",
      "metadata": {
        "id": "GQcGqz37zjv5",
        "colab_type": "text"
      },
      "source": [
        "El desempeño con **Support Vector Machines**"
      ]
    },
    {
      "cell_type": "code",
      "metadata": {
        "id": "VOVl1SFOzk1x",
        "colab_type": "code",
        "outputId": "16496831-679d-4058-80bb-6a6aaf6dfda3",
        "colab": {
          "base_uri": "https://localhost:8080/",
          "height": 34
        }
      },
      "source": [
        "predicted_SVM = text_clf_SVM.predict(resume_test[\"resume\"])\n",
        "np.mean(predicted_SVM == resume_test[\"overall\"])"
      ],
      "execution_count": 0,
      "outputs": [
        {
          "output_type": "execute_result",
          "data": {
            "text/plain": [
              "0.8834762275915822"
            ]
          },
          "metadata": {
            "tags": []
          },
          "execution_count": 51
        }
      ]
    },
    {
      "cell_type": "markdown",
      "metadata": {
        "id": "JHevn20910yd",
        "colab_type": "text"
      },
      "source": [
        "Los clasificadores tienen distintos parámetros los cuales pueden modificarse para obtener el desempeño óptimo"
      ]
    },
    {
      "cell_type": "code",
      "metadata": {
        "id": "anFVREKR2AdA",
        "colab_type": "code",
        "colab": {}
      },
      "source": [
        "from sklearn.model_selection import GridSearchCV\n",
        "parameters = {'vect__ngram_range': [(1,1),(1,2),[1,3]],\n",
        "              'tfidf__use_idf': (True,False),\n",
        "              'clf__alpha':(1e-1,1e-5),}"
      ],
      "execution_count": 0,
      "outputs": []
    },
    {
      "cell_type": "code",
      "metadata": {
        "id": "fzSYdfgl2eq8",
        "colab_type": "code",
        "colab": {}
      },
      "source": [
        "gs_clf = GridSearchCV(text_clf, parameters, n_jobs=-1)\n",
        "gs_clf = gs_clf.fit(resume_train[\"resume\"], resume_train[\"overall\"])"
      ],
      "execution_count": 0,
      "outputs": []
    },
    {
      "cell_type": "markdown",
      "metadata": {
        "id": "Q9_puWeK3Cwh",
        "colab_type": "text"
      },
      "source": [
        "El mejor score y parámetros para **Naive Bayes**"
      ]
    },
    {
      "cell_type": "code",
      "metadata": {
        "id": "g2_lQd7z290b",
        "colab_type": "code",
        "outputId": "931b3066-944c-496d-ba99-cf49200cd9d4",
        "colab": {
          "base_uri": "https://localhost:8080/",
          "height": 51
        }
      },
      "source": [
        "print(gs_clf.best_score_)\n",
        "print(gs_clf.best_params_)"
      ],
      "execution_count": 0,
      "outputs": [
        {
          "output_type": "stream",
          "text": [
            "0.8792722547108512\n",
            "{'clf__alpha': 1e-05, 'tfidf__use_idf': False, 'vect__ngram_range': [1, 3]}\n"
          ],
          "name": "stdout"
        }
      ]
    },
    {
      "cell_type": "code",
      "metadata": {
        "id": "QITkbscM3n2-",
        "colab_type": "code",
        "colab": {}
      },
      "source": [
        "parameters_LR = {'vect__ngram_range': [(1,1),(1,2),[1,3]],\n",
        "              'tfidf__use_idf': (True,False),\n",
        "              'clf__C':(1e-1,1e-6),}"
      ],
      "execution_count": 0,
      "outputs": []
    },
    {
      "cell_type": "code",
      "metadata": {
        "id": "HPkNsTwD4JwF",
        "colab_type": "code",
        "colab": {}
      },
      "source": [
        "gs_clf_LR = GridSearchCV(text_clf_LR, parameters_LR, n_jobs=-1)\n",
        "gs_clf_LR = gs_clf_LR.fit(resume_train[\"resume\"], resume_train[\"overall\"])"
      ],
      "execution_count": 0,
      "outputs": []
    },
    {
      "cell_type": "markdown",
      "metadata": {
        "id": "RQNylJAm38xT",
        "colab_type": "text"
      },
      "source": [
        "El mejor score y parámetros de **Logistic Regression**"
      ]
    },
    {
      "cell_type": "code",
      "metadata": {
        "id": "tn0XVc5t4sNJ",
        "colab_type": "code",
        "outputId": "d81ebb73-790c-499b-e30a-f076f758493c",
        "colab": {
          "base_uri": "https://localhost:8080/",
          "height": 51
        }
      },
      "source": [
        "print(gs_clf_LR.best_score_)\n",
        "print(gs_clf_LR.best_params_)"
      ],
      "execution_count": 0,
      "outputs": [
        {
          "output_type": "stream",
          "text": [
            "0.8778427550357375\n",
            "{'clf__C': 0.1, 'tfidf__use_idf': True, 'vect__ngram_range': (1, 1)}\n"
          ],
          "name": "stdout"
        }
      ]
    },
    {
      "cell_type": "code",
      "metadata": {
        "id": "U1RZOv7d5Pyg",
        "colab_type": "code",
        "colab": {}
      },
      "source": [
        "parameters_SVM = {'vect__ngram_range': [(1,1),(1,2),(1,3)],\n",
        "              'tfidf__use_idf': (True,False),\n",
        "              'clf-svm__alpha':(1e-2,1e-5),\n",
        "              'clf-svm__epsilon':(1e-2,1e-6),}"
      ],
      "execution_count": 0,
      "outputs": []
    },
    {
      "cell_type": "code",
      "metadata": {
        "id": "qcA10j2o5XoS",
        "colab_type": "code",
        "colab": {}
      },
      "source": [
        "gs_clf_SVM = GridSearchCV(text_clf_SVM, parameters_SVM, n_jobs=-1)\n",
        "gs_clf_SVM = gs_clf_SVM.fit(resume_train[\"resume\"], resume_train[\"overall\"])"
      ],
      "execution_count": 0,
      "outputs": []
    },
    {
      "cell_type": "markdown",
      "metadata": {
        "id": "oZqZljFN5xXR",
        "colab_type": "text"
      },
      "source": [
        "El mejor socre y parámetros para **Support Vector Machine**"
      ]
    },
    {
      "cell_type": "code",
      "metadata": {
        "id": "xy_Pla2d58tB",
        "colab_type": "code",
        "outputId": "a5810aa3-9979-4a64-d22a-b0cb658cba42",
        "colab": {
          "base_uri": "https://localhost:8080/",
          "height": 51
        }
      },
      "source": [
        "print(gs_clf_SVM.best_score_)\n",
        "print(gs_clf_SVM.best_params_)"
      ],
      "execution_count": 0,
      "outputs": [
        {
          "output_type": "stream",
          "text": [
            "0.8982456140350876\n",
            "{'clf-svm__alpha': 1e-05, 'clf-svm__epsilon': 0.01, 'tfidf__use_idf': True, 'vect__ngram_range': (1, 2)}\n"
          ],
          "name": "stdout"
        }
      ]
    },
    {
      "cell_type": "markdown",
      "metadata": {
        "id": "HhFR7L0DEQVT",
        "colab_type": "text"
      },
      "source": [
        "Con los parámetros indicados arriba, con la **SVM** se tiene el mejor resultado"
      ]
    },
    {
      "cell_type": "code",
      "metadata": {
        "id": "InUV18ZZEfG4",
        "colab_type": "code",
        "colab": {}
      },
      "source": [
        "text_clf_SVM = Pipeline([\n",
        "    ('vect', CountVectorizer(ngram_range=(1,2))),\n",
        "    ('tfidf', TfidfTransformer()),\n",
        "    ('clf-svm', SGDClassifier(alpha=1e-05, epsilon=0.01)),\n",
        "])\n",
        "text_clf_SVM = text_clf_SVM.fit(resume_train[\"resume\"], resume_train[\"overall\"])"
      ],
      "execution_count": 0,
      "outputs": []
    },
    {
      "cell_type": "markdown",
      "metadata": {
        "id": "SG4ByrZdFTVz",
        "colab_type": "text"
      },
      "source": [
        "Con los nuevos parámetros, se alcanza un 90% de accuracy en el test"
      ]
    },
    {
      "cell_type": "code",
      "metadata": {
        "id": "3pHQGF0rFQQQ",
        "colab_type": "code",
        "outputId": "ff1bc41e-fed6-4a67-8550-58df1df2ee17",
        "colab": {
          "base_uri": "https://localhost:8080/",
          "height": 34
        }
      },
      "source": [
        "predicted_SVM = text_clf_SVM.predict(resume_test[\"resume\"])\n",
        "np.mean(predicted_SVM == resume_test[\"overall\"])"
      ],
      "execution_count": 0,
      "outputs": [
        {
          "output_type": "execute_result",
          "data": {
            "text/plain": [
              "0.9053000779423227"
            ]
          },
          "metadata": {
            "tags": []
          },
          "execution_count": 73
        }
      ]
    },
    {
      "cell_type": "markdown",
      "metadata": {
        "id": "WZIm0cR2Fdbr",
        "colab_type": "text"
      },
      "source": [
        "Se crea una función para clasificar reviews"
      ]
    },
    {
      "cell_type": "code",
      "metadata": {
        "id": "FlhuUluJ-Cye",
        "colab_type": "code",
        "outputId": "0e88e104-53bf-40be-f5d3-7b199fbdc498",
        "colab": {
          "base_uri": "https://localhost:8080/",
          "height": 170
        }
      },
      "source": [
        "def test_sentence(model,sentence):\n",
        "    sentence = [sentence]\n",
        "    result = model.predict(sentence)\n",
        "    res = ['No Feedback','Feedback']\n",
        "    print(\"El review es %s\" % (res[int(result)]))\n",
        "\n",
        "test_sentence(text_clf_SVM, \"It’s a perfect starter pack. And the price is right.\")\n",
        "test_sentence(text_clf_SVM, \"The trumpet is hard to blow and the keys stick\")\n",
        "test_sentence(text_clf_SVM, \"This instrument has a good sound and is easy to play. It is good for beginners, especially at its price level.\")\n",
        "test_sentence(text_clf_SVM, \"Not worth the money. It isn't the easiest to tune.\")\n",
        "test_sentence(text_clf_SVM, \"Lovely recorder. Perfect for my 5 year old who is starting lessons.\")\n",
        "test_sentence(text_clf_SVM, \"These instruments (the ones made in Italy, not China) have been great for my preschoolers. We originally bought a trumpet for my son, it held up to some very rough play, and my daughter loved his so much that we bought the multi-instrument set this past year. They make a rather pleasant sound as far as child instruments go (versus the recorderish squeal of many!). I also love how you really have to blow air while pushing the buttons to make a sound, introducing the children to real wood-wind instrument concepts.\")\n",
        "test_sentence(text_clf_SVM, \"I wish I would not have bought this. This sound so horrible, and my kid keeps playing it. I guess you get what you pay for.\")\n",
        "test_sentence(text_clf_SVM, \"The piano is very entertaining for kids. It has so many options to play like different instruments . It’s very good. In built music is nice for younger kids and also micro phone is working great.\")\n",
        "test_sentence(text_clf_SVM, \"Piano stopped working even after replacing the batteries few times .The sound quality was ok. Ended up returning\")"
      ],
      "execution_count": 0,
      "outputs": [
        {
          "output_type": "stream",
          "text": [
            "El review es No Feedback\n",
            "El review es Feedback\n",
            "El review es No Feedback\n",
            "El review es Feedback\n",
            "El review es No Feedback\n",
            "El review es No Feedback\n",
            "El review es Feedback\n",
            "El review es No Feedback\n",
            "El review es Feedback\n"
          ],
          "name": "stdout"
        }
      ]
    },
    {
      "cell_type": "markdown",
      "metadata": {
        "id": "ZpdiGdIuazry",
        "colab_type": "text"
      },
      "source": [
        "Se casifican bastante bien los reviews que son buenos, pero se tiene dificultad al clasificar los que contienen feedback"
      ]
    },
    {
      "cell_type": "code",
      "metadata": {
        "id": "_aO8HosK6b0J",
        "colab_type": "code",
        "outputId": "5c82898b-f2b3-486c-dbf6-547f79d43d03",
        "colab": {
          "base_uri": "https://localhost:8080/",
          "height": 68
        }
      },
      "source": [
        "test_sentence(text_clf_SVM, \"The recorders arrived on time, but 9 out of 10 had torn/ripped cases. I was not pleased with this as I had bought them for my students, and I had to buy alternate cases in order to give them out to the kids.\")\n",
        "test_sentence(text_clf_SVM, \"It's not in perfect tune, unfortunately. It works for kids, but not if you want to play for real.\")\n",
        "test_sentence(text_clf, \"The guitar is much heavier than I thought, so the advantage it’s diminutive size grants for travel, is somewhat diminished by its surprising heft.\")"
      ],
      "execution_count": 0,
      "outputs": [
        {
          "output_type": "stream",
          "text": [
            "El review es No Feedback\n",
            "El review es No Feedback\n",
            "El review es No Feedback\n"
          ],
          "name": "stdout"
        }
      ]
    }
  ]
}